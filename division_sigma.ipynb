{
 "cells": [
  {
   "cell_type": "code",
   "execution_count": 3,
   "metadata": {},
   "outputs": [
    {
     "name": "stderr",
     "output_type": "stream",
     "text": [
      "Using TensorFlow backend.\n",
      "/Users/hollyjen123/opt/anaconda3/envs/ai_academy_3_7/lib/python3.7/site-packages/tensorflow/python/framework/dtypes.py:516: FutureWarning: Passing (type, 1) or '1type' as a synonym of type is deprecated; in a future version of numpy, it will be understood as (type, (1,)) / '(1,)type'.\n",
      "  _np_qint8 = np.dtype([(\"qint8\", np.int8, 1)])\n",
      "/Users/hollyjen123/opt/anaconda3/envs/ai_academy_3_7/lib/python3.7/site-packages/tensorflow/python/framework/dtypes.py:517: FutureWarning: Passing (type, 1) or '1type' as a synonym of type is deprecated; in a future version of numpy, it will be understood as (type, (1,)) / '(1,)type'.\n",
      "  _np_quint8 = np.dtype([(\"quint8\", np.uint8, 1)])\n",
      "/Users/hollyjen123/opt/anaconda3/envs/ai_academy_3_7/lib/python3.7/site-packages/tensorflow/python/framework/dtypes.py:518: FutureWarning: Passing (type, 1) or '1type' as a synonym of type is deprecated; in a future version of numpy, it will be understood as (type, (1,)) / '(1,)type'.\n",
      "  _np_qint16 = np.dtype([(\"qint16\", np.int16, 1)])\n",
      "/Users/hollyjen123/opt/anaconda3/envs/ai_academy_3_7/lib/python3.7/site-packages/tensorflow/python/framework/dtypes.py:519: FutureWarning: Passing (type, 1) or '1type' as a synonym of type is deprecated; in a future version of numpy, it will be understood as (type, (1,)) / '(1,)type'.\n",
      "  _np_quint16 = np.dtype([(\"quint16\", np.uint16, 1)])\n",
      "/Users/hollyjen123/opt/anaconda3/envs/ai_academy_3_7/lib/python3.7/site-packages/tensorflow/python/framework/dtypes.py:520: FutureWarning: Passing (type, 1) or '1type' as a synonym of type is deprecated; in a future version of numpy, it will be understood as (type, (1,)) / '(1,)type'.\n",
      "  _np_qint32 = np.dtype([(\"qint32\", np.int32, 1)])\n",
      "/Users/hollyjen123/opt/anaconda3/envs/ai_academy_3_7/lib/python3.7/site-packages/tensorflow/python/framework/dtypes.py:525: FutureWarning: Passing (type, 1) or '1type' as a synonym of type is deprecated; in a future version of numpy, it will be understood as (type, (1,)) / '(1,)type'.\n",
      "  np_resource = np.dtype([(\"resource\", np.ubyte, 1)])\n",
      "/Users/hollyjen123/opt/anaconda3/envs/ai_academy_3_7/lib/python3.7/site-packages/tensorboard/compat/tensorflow_stub/dtypes.py:541: FutureWarning: Passing (type, 1) or '1type' as a synonym of type is deprecated; in a future version of numpy, it will be understood as (type, (1,)) / '(1,)type'.\n",
      "  _np_qint8 = np.dtype([(\"qint8\", np.int8, 1)])\n",
      "/Users/hollyjen123/opt/anaconda3/envs/ai_academy_3_7/lib/python3.7/site-packages/tensorboard/compat/tensorflow_stub/dtypes.py:542: FutureWarning: Passing (type, 1) or '1type' as a synonym of type is deprecated; in a future version of numpy, it will be understood as (type, (1,)) / '(1,)type'.\n",
      "  _np_quint8 = np.dtype([(\"quint8\", np.uint8, 1)])\n",
      "/Users/hollyjen123/opt/anaconda3/envs/ai_academy_3_7/lib/python3.7/site-packages/tensorboard/compat/tensorflow_stub/dtypes.py:543: FutureWarning: Passing (type, 1) or '1type' as a synonym of type is deprecated; in a future version of numpy, it will be understood as (type, (1,)) / '(1,)type'.\n",
      "  _np_qint16 = np.dtype([(\"qint16\", np.int16, 1)])\n",
      "/Users/hollyjen123/opt/anaconda3/envs/ai_academy_3_7/lib/python3.7/site-packages/tensorboard/compat/tensorflow_stub/dtypes.py:544: FutureWarning: Passing (type, 1) or '1type' as a synonym of type is deprecated; in a future version of numpy, it will be understood as (type, (1,)) / '(1,)type'.\n",
      "  _np_quint16 = np.dtype([(\"quint16\", np.uint16, 1)])\n",
      "/Users/hollyjen123/opt/anaconda3/envs/ai_academy_3_7/lib/python3.7/site-packages/tensorboard/compat/tensorflow_stub/dtypes.py:545: FutureWarning: Passing (type, 1) or '1type' as a synonym of type is deprecated; in a future version of numpy, it will be understood as (type, (1,)) / '(1,)type'.\n",
      "  _np_qint32 = np.dtype([(\"qint32\", np.int32, 1)])\n",
      "/Users/hollyjen123/opt/anaconda3/envs/ai_academy_3_7/lib/python3.7/site-packages/tensorboard/compat/tensorflow_stub/dtypes.py:550: FutureWarning: Passing (type, 1) or '1type' as a synonym of type is deprecated; in a future version of numpy, it will be understood as (type, (1,)) / '(1,)type'.\n",
      "  np_resource = np.dtype([(\"resource\", np.ubyte, 1)])\n"
     ]
    }
   ],
   "source": [
    "# import necessaries\n",
    "%matplotlib inline\n",
    "\n",
    "import pandas\n",
    "import numpy\n",
    "import math\n",
    "import seaborn\n",
    "import matplotlib\n",
    "import matplotlib.pyplot\n",
    "import functools\n",
    "import operator\n",
    "import string\n",
    "import sklearn\n",
    "import sklearn.preprocessing\n",
    "import sklearn.linear_model\n",
    "import sklearn.pipeline\n",
    "import sklearn.ensemble\n",
    "import sklearn.decomposition\n",
    "import sklearn.datasets\n",
    "import sklearn.datasets.base\n",
    "\n",
    "import statistics\n",
    "import statsmodels\n",
    "import statsmodels.discrete.discrete_model\n",
    "import os\n",
    "\n",
    "import lime\n",
    "import sklearn\n",
    "import numpy as np\n",
    "import sklearn\n",
    "import sklearn.ensemble\n",
    "import sklearn.metrics\n",
    "import re\n",
    "\n",
    "\n",
    "import keras\n",
    "from tensorflow.keras import *\n",
    "from tensorflow.keras.layers import *\n",
    "from tensorflow.keras.optimizers import *"
   ]
  },
  {
   "cell_type": "code",
   "execution_count": 7,
   "metadata": {},
   "outputs": [],
   "source": [
    "from sklearn.model_selection import train_test_split\n",
    "from numpy.random import RandomState\n",
    "\n",
    "# Load training data\n",
    "raw_data = pandas.read_csv('~/Desktop/training_data.csv', usecols = ['Text','Sentiment'])\n",
    "raw_data = raw_data.rename(columns={\"Text\": \"data\", \"Sentiment\": \"target\"})\n",
    "\n",
    "# filtering noise words such as word start with @, quotes, special characters\n",
    "raw_data.data = [x.replace('&gt;', ' ').replace('&amp;', ' ').replace('&lt;',' ').replace('&quot;',' ') for x in raw_data.data]\n",
    "raw_data.data = [' '.join(word for word in x.split() if word[0]!='@') for x in raw_data.data]"
   ]
  },
  {
   "cell_type": "code",
   "execution_count": 8,
   "metadata": {},
   "outputs": [],
   "source": [
    "train_data = sklearn.datasets.base.Bunch(data=raw_data.data, target=raw_data.target)\n",
    "train_text = train_data.data"
   ]
  },
  {
   "cell_type": "code",
   "execution_count": 9,
   "metadata": {},
   "outputs": [],
   "source": [
    "# Load contestant file\n",
    "\n",
    "contest_raw_data = pandas.read_csv('~/Desktop/contestant_judgment.csv', usecols = ['User','Text'])\n",
    "contest_raw_data = contest_raw_data.rename(columns={\"Text\": \"data\"})\n",
    "contest_data = contest_raw_data.copy()\n",
    "\n",
    "# filtering noise words such as word start with @, quotes, special characters\n",
    "contest_data.data = [x.replace('&gt;', ' ').replace('&amp;', ' ').replace('&lt;',' ').replace('&quot;',' ') for x in contest_data.data]\n",
    "contest_data.data = [' '.join(word for word in x.split() if word[0]!='@') for x in contest_data.data]\n",
    "\n",
    "contest = sklearn.datasets.base.Bunch(data=contest_data.data)\n",
    "\n",
    "contest_text = contest.data"
   ]
  },
  {
   "cell_type": "markdown",
   "metadata": {},
   "source": [
    "## Training a classifier"
   ]
  },
  {
   "cell_type": "code",
   "execution_count": 11,
   "metadata": {
    "jupyter": {
     "outputs_hidden": false
    }
   },
   "outputs": [],
   "source": [
    "# tokenizer\n",
    "# setting up the tokenizer\n",
    "tok = keras.preprocessing.text.Tokenizer(num_words=10000)\n",
    "tok.fit_on_texts(train_text)\n",
    "\n",
    "max_len = 300\n",
    "\n",
    "# text to sequence\n",
    "train_data.data = tok.texts_to_sequences(train_text)\n",
    "train_data.data = keras.preprocessing.sequence.pad_sequences(train_data.data, maxlen=max_len, \n",
    "                                                             padding=\"post\", truncating=\"post\")\n",
    "train_data.data = train_data.data.astype(float)\n",
    "train_data.target = numpy.asarray(train_data.target, dtype=float)"
   ]
  },
  {
   "cell_type": "code",
   "execution_count": 13,
   "metadata": {},
   "outputs": [],
   "source": [
    "# text to sequence\n",
    "contest.data = tok.texts_to_sequences(contest_text)\n",
    "contest.data = keras.preprocessing.sequence.pad_sequences(contest.data, maxlen=max_len, \n",
    "                                                             padding=\"post\", truncating=\"post\")\n",
    "contest.data = contest.data.astype(float)"
   ]
  },
  {
   "cell_type": "code",
   "execution_count": 14,
   "metadata": {},
   "outputs": [
    {
     "name": "stdout",
     "output_type": "stream",
     "text": [
      "WARNING:tensorflow:From /Users/hollyjen123/opt/anaconda3/envs/ai_academy_3_7/lib/python3.7/site-packages/tensorflow/python/keras/initializers.py:119: calling RandomUniform.__init__ (from tensorflow.python.ops.init_ops) with dtype is deprecated and will be removed in a future version.\n",
      "Instructions for updating:\n",
      "Call initializer instance with the dtype argument instead of passing it to the constructor\n"
     ]
    },
    {
     "name": "stderr",
     "output_type": "stream",
     "text": [
      "WARNING:tensorflow:From /Users/hollyjen123/opt/anaconda3/envs/ai_academy_3_7/lib/python3.7/site-packages/tensorflow/python/keras/initializers.py:119: calling RandomUniform.__init__ (from tensorflow.python.ops.init_ops) with dtype is deprecated and will be removed in a future version.\n",
      "Instructions for updating:\n",
      "Call initializer instance with the dtype argument instead of passing it to the constructor\n"
     ]
    },
    {
     "name": "stdout",
     "output_type": "stream",
     "text": [
      "WARNING:tensorflow:From /Users/hollyjen123/opt/anaconda3/envs/ai_academy_3_7/lib/python3.7/site-packages/tensorflow/python/ops/init_ops.py:1251: calling VarianceScaling.__init__ (from tensorflow.python.ops.init_ops) with dtype is deprecated and will be removed in a future version.\n",
      "Instructions for updating:\n",
      "Call initializer instance with the dtype argument instead of passing it to the constructor\n"
     ]
    },
    {
     "name": "stderr",
     "output_type": "stream",
     "text": [
      "WARNING:tensorflow:From /Users/hollyjen123/opt/anaconda3/envs/ai_academy_3_7/lib/python3.7/site-packages/tensorflow/python/ops/init_ops.py:1251: calling VarianceScaling.__init__ (from tensorflow.python.ops.init_ops) with dtype is deprecated and will be removed in a future version.\n",
      "Instructions for updating:\n",
      "Call initializer instance with the dtype argument instead of passing it to the constructor\n"
     ]
    },
    {
     "name": "stdout",
     "output_type": "stream",
     "text": [
      "WARNING:tensorflow:From /Users/hollyjen123/opt/anaconda3/envs/ai_academy_3_7/lib/python3.7/site-packages/tensorflow/python/ops/nn_impl.py:180: add_dispatch_support.<locals>.wrapper (from tensorflow.python.ops.array_ops) is deprecated and will be removed in a future version.\n",
      "Instructions for updating:\n",
      "Use tf.where in 2.0, which has the same broadcast rule as np.where\n"
     ]
    },
    {
     "name": "stderr",
     "output_type": "stream",
     "text": [
      "WARNING:tensorflow:From /Users/hollyjen123/opt/anaconda3/envs/ai_academy_3_7/lib/python3.7/site-packages/tensorflow/python/ops/nn_impl.py:180: add_dispatch_support.<locals>.wrapper (from tensorflow.python.ops.array_ops) is deprecated and will be removed in a future version.\n",
      "Instructions for updating:\n",
      "Use tf.where in 2.0, which has the same broadcast rule as np.where\n"
     ]
    },
    {
     "name": "stdout",
     "output_type": "stream",
     "text": [
      "Model: \"sequential\"\n",
      "_________________________________________________________________\n",
      "Layer (type)                 Output Shape              Param #   \n",
      "=================================================================\n",
      "embedding (Embedding)        (None, 300, 8)            80000     \n",
      "_________________________________________________________________\n",
      "flatten (Flatten)            (None, 2400)              0         \n",
      "_________________________________________________________________\n",
      "dense (Dense)                (None, 1)                 2401      \n",
      "=================================================================\n",
      "Total params: 82,401\n",
      "Trainable params: 82,401\n",
      "Non-trainable params: 0\n",
      "_________________________________________________________________\n"
     ]
    }
   ],
   "source": [
    "# creating a sequential model + setting the layers\n",
    "model = Sequential()\n",
    "model.add(Embedding(10000, 8, input_length = max_len))\n",
    "model.add(Flatten())\n",
    "model.add(Dense(1, activation='sigmoid'))\n",
    "model.compile(optimizer='rmsprop', loss='binary_crossentropy', metrics=['acc'])\n",
    "model.summary()"
   ]
  },
  {
   "cell_type": "code",
   "execution_count": 15,
   "metadata": {},
   "outputs": [
    {
     "name": "stdout",
     "output_type": "stream",
     "text": [
      "Train on 800000 samples, validate on 200000 samples\n",
      "Epoch 1/20\n",
      "800000/800000 [==============================] - 46s 58us/sample - loss: 0.4880 - acc: 0.7758 - val_loss: 0.4746 - val_acc: 0.7868\n",
      "Epoch 2/20\n",
      "800000/800000 [==============================] - 41s 52us/sample - loss: 0.4711 - acc: 0.7886 - val_loss: 0.4719 - val_acc: 0.7877\n",
      "Epoch 3/20\n",
      "800000/800000 [==============================] - 44s 54us/sample - loss: 0.4688 - acc: 0.7899 - val_loss: 0.4735 - val_acc: 0.7872\n",
      "Epoch 4/20\n",
      "800000/800000 [==============================] - 42s 52us/sample - loss: 0.4671 - acc: 0.7908 - val_loss: 0.4740 - val_acc: 0.7846\n",
      "Epoch 5/20\n",
      "800000/800000 [==============================] - 45s 57us/sample - loss: 0.4657 - acc: 0.7925 - val_loss: 0.4736 - val_acc: 0.7872\n",
      "Epoch 6/20\n",
      "800000/800000 [==============================] - 45s 56us/sample - loss: 0.4644 - acc: 0.7926 - val_loss: 0.4750 - val_acc: 0.7842\n",
      "Epoch 7/20\n",
      "800000/800000 [==============================] - 50s 63us/sample - loss: 0.4637 - acc: 0.7936 - val_loss: 0.4769 - val_acc: 0.7832\n",
      "Epoch 8/20\n",
      "800000/800000 [==============================] - 43s 54us/sample - loss: 0.4627 - acc: 0.7941 - val_loss: 0.4761 - val_acc: 0.7861\n",
      "Epoch 9/20\n",
      "800000/800000 [==============================] - 44s 55us/sample - loss: 0.4620 - acc: 0.7949 - val_loss: 0.4800 - val_acc: 0.7818\n",
      "Epoch 10/20\n",
      "800000/800000 [==============================] - 42s 53us/sample - loss: 0.4614 - acc: 0.7952 - val_loss: 0.4778 - val_acc: 0.7840\n",
      "Epoch 11/20\n",
      "800000/800000 [==============================] - 42s 53us/sample - loss: 0.4610 - acc: 0.7952 - val_loss: 0.4806 - val_acc: 0.7841\n",
      "Epoch 12/20\n",
      "800000/800000 [==============================] - 42s 52us/sample - loss: 0.4609 - acc: 0.7959 - val_loss: 0.4831 - val_acc: 0.7837\n",
      "Epoch 13/20\n",
      "800000/800000 [==============================] - 43s 53us/sample - loss: 0.4606 - acc: 0.7958 - val_loss: 0.4864 - val_acc: 0.7823\n",
      "Epoch 14/20\n",
      "800000/800000 [==============================] - 49s 61us/sample - loss: 0.4606 - acc: 0.7957 - val_loss: 0.4822 - val_acc: 0.7827\n",
      "Epoch 15/20\n",
      "800000/800000 [==============================] - 49s 61us/sample - loss: 0.4602 - acc: 0.7962 - val_loss: 0.4833 - val_acc: 0.7844\n",
      "Epoch 16/20\n",
      "800000/800000 [==============================] - 48s 60us/sample - loss: 0.4602 - acc: 0.7962 - val_loss: 0.4830 - val_acc: 0.7837\n",
      "Epoch 17/20\n",
      "800000/800000 [==============================] - 48s 60us/sample - loss: 0.4602 - acc: 0.7961 - val_loss: 0.4828 - val_acc: 0.7832\n",
      "Epoch 18/20\n",
      "800000/800000 [==============================] - 49s 61us/sample - loss: 0.4601 - acc: 0.7963 - val_loss: 0.4825 - val_acc: 0.7815\n",
      "Epoch 19/20\n",
      "800000/800000 [==============================] - 42s 53us/sample - loss: 0.4601 - acc: 0.7966 - val_loss: 0.4862 - val_acc: 0.7827\n",
      "Epoch 20/20\n",
      "800000/800000 [==============================] - 50s 62us/sample - loss: 0.4601 - acc: 0.7967 - val_loss: 0.4853 - val_acc: 0.7824\n"
     ]
    }
   ],
   "source": [
    "# training the model with the training data split \n",
    "history = model.fit(train_data.data, train_data.target, epochs=20,\n",
    "                    batch_size=32, validation_split=0.2)"
   ]
  },
  {
   "cell_type": "code",
   "execution_count": 16,
   "metadata": {},
   "outputs": [],
   "source": [
    "preds_train = pandas.DataFrame(model.predict_proba(train_data.data))\n",
    "preds_train.columns = [\"prediction\"]\n",
    "preds_train[\"actual\"] = train_data.target"
   ]
  },
  {
   "cell_type": "code",
   "execution_count": 18,
   "metadata": {},
   "outputs": [],
   "source": [
    "import wvpy.util"
   ]
  },
  {
   "cell_type": "code",
   "execution_count": 19,
   "metadata": {},
   "outputs": [
    {
     "data": {
      "image/png": "[encoded data removed]",
      "text/plain": [
       "<Figure size 432x288 with 1 Axes>"
      ]
     },
     "metadata": {
      "needs_background": "light"
     },
     "output_type": "display_data"
    },
    {
     "data": {
      "text/plain": [
       "0.8684868321840001"
      ]
     },
     "execution_count": 19,
     "metadata": {},
     "output_type": "execute_result"
    }
   ],
   "source": [
    "# output graph and evaluate accurcay based on predicted and actual\n",
    "wvpy.util.plot_roc(preds_train[\"prediction\"], preds_train[\"actual\"])"
   ]
  },
  {
   "cell_type": "code",
   "execution_count": 25,
   "metadata": {},
   "outputs": [
    {
     "data": {
      "text/plain": [
       "(795750, 52)"
      ]
     },
     "execution_count": 25,
     "metadata": {},
     "output_type": "execute_result"
    }
   ],
   "source": [
    "# if predicted value is greater than 40, label it as 1 else 0\n",
    "max_value = 0;\n",
    "max_i = 0;\n",
    "i = 40\n",
    "while i < 100:\n",
    "    preds_train['result'] = preds_train['prediction'].apply(lambda x: 1.0 if float(x)*100 >= i else 0.0)\n",
    "    comparison_column = np.where(preds_train[\"actual\"] == preds_train[\"result\"], True, False)\n",
    "    # checking total true values\n",
    "    if np.sum(comparison_column == True) > max_value: \n",
    "        max_value = np.sum(comparison_column == True) \n",
    "        max_i = i\n",
    "    i += 1\n",
    "\n",
    "(max_value, max_i)"
   ]
  },
  {
   "cell_type": "code",
   "execution_count": 26,
   "metadata": {},
   "outputs": [
    {
     "data": {
      "text/plain": [
       "0.79575"
      ]
     },
     "execution_count": 26,
     "metadata": {},
     "output_type": "execute_result"
    }
   ],
   "source": [
    "# probability 52 --> accuracy is about 79%\n",
    "(max_value/1000000)"
   ]
  },
  {
   "cell_type": "markdown",
   "metadata": {},
   "source": [
    "# Generate content result file"
   ]
  },
  {
   "cell_type": "code",
   "execution_count": 39,
   "metadata": {},
   "outputs": [],
   "source": [
    "# creating the submitting csv\n",
    "preds_contest = pandas.DataFrame(model.predict_proba(contest.data))\n",
    "preds_contest.columns = [\"prediction\"]"
   ]
  },
  {
   "cell_type": "code",
   "execution_count": 44,
   "metadata": {},
   "outputs": [],
   "source": [
    "preds_contest['result'] = preds_contest['prediction'].apply(lambda x: 1 if float(x)*100 >= 52 else 0)"
   ]
  },
  {
   "cell_type": "code",
   "execution_count": 45,
   "metadata": {},
   "outputs": [
    {
     "data": {
      "text/html": [
       "<div>\n",
       "<style scoped>\n",
       "    .dataframe tbody tr th:only-of-type {\n",
       "        vertical-align: middle;\n",
       "    }\n",
       "\n",
       "    .dataframe tbody tr th {\n",
       "        vertical-align: top;\n",
       "    }\n",
       "\n",
       "    .dataframe thead th {\n",
       "        text-align: right;\n",
       "    }\n",
       "</style>\n",
       "<table border=\"1\" class=\"dataframe\">\n",
       "  <thead>\n",
       "    <tr style=\"text-align: right;\">\n",
       "      <th></th>\n",
       "      <th>User</th>\n",
       "      <th>data</th>\n",
       "      <th>result</th>\n",
       "      <th>prediction</th>\n",
       "    </tr>\n",
       "  </thead>\n",
       "  <tbody>\n",
       "    <tr>\n",
       "      <th>0</th>\n",
       "      <td>sauce_pot</td>\n",
       "      <td>I'm on my way to miss kacy's 4th bday party at...</td>\n",
       "      <td>0</td>\n",
       "      <td>0.300651</td>\n",
       "    </tr>\n",
       "    <tr>\n",
       "      <th>1</th>\n",
       "      <td>lovelyritaz</td>\n",
       "      <td>@ripestapple  I might not be the right person ...</td>\n",
       "      <td>0</td>\n",
       "      <td>0.372301</td>\n",
       "    </tr>\n",
       "    <tr>\n",
       "      <th>2</th>\n",
       "      <td>Dannymassacur</td>\n",
       "      <td>@zomgkris I know it is.</td>\n",
       "      <td>0</td>\n",
       "      <td>0.479286</td>\n",
       "    </tr>\n",
       "    <tr>\n",
       "      <th>3</th>\n",
       "      <td>Ms_Lady09</td>\n",
       "      <td>Mii ViSioN is BLuRRy...iM goiN to Bed!!NiTe Ni...</td>\n",
       "      <td>0</td>\n",
       "      <td>0.470539</td>\n",
       "    </tr>\n",
       "    <tr>\n",
       "      <th>4</th>\n",
       "      <td>EvilSue</td>\n",
       "      <td>@tealou anyways - i did something good for som...</td>\n",
       "      <td>0</td>\n",
       "      <td>0.371077</td>\n",
       "    </tr>\n",
       "    <tr>\n",
       "      <th>...</th>\n",
       "      <td>...</td>\n",
       "      <td>...</td>\n",
       "      <td>...</td>\n",
       "      <td>...</td>\n",
       "    </tr>\n",
       "    <tr>\n",
       "      <th>599994</th>\n",
       "      <td>airsoft_gunner</td>\n",
       "      <td>is waiting to go to work</td>\n",
       "      <td>0</td>\n",
       "      <td>0.259179</td>\n",
       "    </tr>\n",
       "    <tr>\n",
       "      <th>599995</th>\n",
       "      <td>mlynnfrank</td>\n",
       "      <td>For 4 years i've been only an hour from syracu...</td>\n",
       "      <td>0</td>\n",
       "      <td>0.116495</td>\n",
       "    </tr>\n",
       "    <tr>\n",
       "      <th>599996</th>\n",
       "      <td>xxAnnaSxx</td>\n",
       "      <td>@SBWinner oh I'm sry for u  two years ago we h...</td>\n",
       "      <td>1</td>\n",
       "      <td>0.791089</td>\n",
       "    </tr>\n",
       "    <tr>\n",
       "      <th>599997</th>\n",
       "      <td>Kiddylicious</td>\n",
       "      <td>@amy_beee he can`t think of a reason how you l...</td>\n",
       "      <td>0</td>\n",
       "      <td>0.333431</td>\n",
       "    </tr>\n",
       "    <tr>\n",
       "      <th>599998</th>\n",
       "      <td>SpangleyGarbage</td>\n",
       "      <td>Going holiday shopping! Yipee!</td>\n",
       "      <td>1</td>\n",
       "      <td>0.828666</td>\n",
       "    </tr>\n",
       "  </tbody>\n",
       "</table>\n",
       "<p>599999 rows × 4 columns</p>\n",
       "</div>"
      ],
      "text/plain": [
       "                   User                                               data  \\\n",
       "0             sauce_pot  I'm on my way to miss kacy's 4th bday party at...   \n",
       "1           lovelyritaz  @ripestapple  I might not be the right person ...   \n",
       "2         Dannymassacur                           @zomgkris I know it is.    \n",
       "3             Ms_Lady09  Mii ViSioN is BLuRRy...iM goiN to Bed!!NiTe Ni...   \n",
       "4               EvilSue  @tealou anyways - i did something good for som...   \n",
       "...                 ...                                                ...   \n",
       "599994   airsoft_gunner                          is waiting to go to work    \n",
       "599995       mlynnfrank  For 4 years i've been only an hour from syracu...   \n",
       "599996        xxAnnaSxx  @SBWinner oh I'm sry for u  two years ago we h...   \n",
       "599997     Kiddylicious  @amy_beee he can`t think of a reason how you l...   \n",
       "599998  SpangleyGarbage                    Going holiday shopping! Yipee!    \n",
       "\n",
       "        result  prediction  \n",
       "0            0    0.300651  \n",
       "1            0    0.372301  \n",
       "2            0    0.479286  \n",
       "3            0    0.470539  \n",
       "4            0    0.371077  \n",
       "...        ...         ...  \n",
       "599994       0    0.259179  \n",
       "599995       0    0.116495  \n",
       "599996       1    0.791089  \n",
       "599997       0    0.333431  \n",
       "599998       1    0.828666  \n",
       "\n",
       "[599999 rows x 4 columns]"
      ]
     },
     "execution_count": 45,
     "metadata": {},
     "output_type": "execute_result"
    }
   ],
   "source": [
    "contest_raw_data"
   ]
  },
  {
   "cell_type": "code",
   "execution_count": 49,
   "metadata": {},
   "outputs": [],
   "source": [
    "# drop unneccesary columns\n",
    "contest_raw_data['result'] = preds_contest.result\n",
    "result = contest_raw_data.drop([\"User\", \"data\", \"prediction\"], axis=1)"
   ]
  },
  {
   "cell_type": "code",
   "execution_count": 51,
   "metadata": {},
   "outputs": [],
   "source": [
    "# store results into this csv\n",
    "result.to_csv('~/Desktop/contestant_judgment_result.csv' )"
   ]
  },
  {
   "cell_type": "code",
   "execution_count": null,
   "metadata": {},
   "outputs": [],
   "source": []
  }
 ],
 "metadata": {
  "kernelspec": {
   "display_name": "Python 3",
   "language": "python",
   "name": "python3"
  },
  "language_info": {
   "codemirror_mode": {
    "name": "ipython",
    "version": 3
   },
   "file_extension": ".py",
   "mimetype": "text/x-python",
   "name": "python",
   "nbconvert_exporter": "python",
   "pygments_lexer": "ipython3",
   "version": "3.7.7"
  }
 },
 "nbformat": 4,
 "nbformat_minor": 4
}
